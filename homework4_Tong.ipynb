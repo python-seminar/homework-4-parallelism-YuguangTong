{
 "cells": [
  {
   "cell_type": "markdown",
   "metadata": {},
   "source": [
    "We compare three implementations of the same Algorithm: calculating $\\pi$ by Monte Carlo method\n",
    "- Serial\n",
    "- multiprocessing\n",
    "- ipyparallel"
   ]
  },
  {
   "cell_type": "markdown",
   "metadata": {},
   "source": [
    "## Serial solution"
   ]
  },
  {
   "cell_type": "code",
   "execution_count": 1,
   "metadata": {
    "collapsed": true
   },
   "outputs": [],
   "source": [
    "from random import uniform\n",
    "from time import time"
   ]
  },
  {
   "cell_type": "code",
   "execution_count": 2,
   "metadata": {
    "collapsed": true
   },
   "outputs": [],
   "source": [
    "def sample_circle(n):\n",
    "    \"\"\"\n",
    "    throw n darts in [0, 1] * [0, 1] square, return the number\n",
    "    of darts inside unit circle.\n",
    "    \n",
    "    Parameter\n",
    "    ---------\n",
    "        n: number of darts to throw.\n",
    "    \n",
    "    Return\n",
    "    ------\n",
    "        m: number of darts inside unit circle.\n",
    "    \"\"\"\n",
    "    m = 0\n",
    "    for i in range(int(n)):\n",
    "        x, y = uniform(0, 1), uniform(0, 1)\n",
    "        if x**2 + y**2 < 1:\n",
    "            m += 1\n",
    "    return m"
   ]
  },
  {
   "cell_type": "code",
   "execution_count": 3,
   "metadata": {
    "collapsed": true
   },
   "outputs": [],
   "source": [
    "def pi_serial(n):\n",
    "    \"\"\"\n",
    "    Naive serial implementation of monte carlo pi using \n",
    "        sample_circle function.\n",
    "        \n",
    "    Parameter\n",
    "    ---------\n",
    "        n: number of darts to throw\n",
    "    \n",
    "    Return\n",
    "    ------\n",
    "        value of pi in the monte-carlo simulation\n",
    "    \"\"\"\n",
    "    t1 = time()\n",
    "    m = sample_circle(n)\n",
    "    t2 = time()\n",
    "    t_loop = t2 - t1\n",
    "    \n",
    "    pi_approx = 4. * m / n\n",
    "    return pi_approx, t_loop"
   ]
  },
  {
   "cell_type": "code",
   "execution_count": 4,
   "metadata": {
    "collapsed": false
   },
   "outputs": [
    {
     "name": "stdout",
     "output_type": "stream",
     "text": [
      "CPU times: user 124 ms, sys: 5.29 ms, total: 129 ms\n",
      "Wall time: 126 ms\n"
     ]
    },
    {
     "data": {
      "text/plain": [
       "(3.14564, 0.12616705894470215)"
      ]
     },
     "execution_count": 4,
     "metadata": {},
     "output_type": "execute_result"
    }
   ],
   "source": [
    "n = 100000\n",
    "%time pi_serial(n)"
   ]
  },
  {
   "cell_type": "markdown",
   "metadata": {},
   "source": [
    "## Multiprocessing implementation"
   ]
  },
  {
   "cell_type": "code",
   "execution_count": 5,
   "metadata": {
    "collapsed": true
   },
   "outputs": [],
   "source": [
    "from random import uniform\n",
    "from multiprocessing import Pool \n",
    "from time import time"
   ]
  },
  {
   "cell_type": "code",
   "execution_count": 6,
   "metadata": {
    "collapsed": true
   },
   "outputs": [],
   "source": [
    "def sample_circle(n):\n",
    "    \"\"\"\n",
    "    throw n darts in [0, 1] * [0, 1] square, return the number\n",
    "    of darts inside unit circle.\n",
    "    \n",
    "    Parameter\n",
    "    ---------\n",
    "        n: number of darts to throw.\n",
    "    \n",
    "    Return\n",
    "    ------\n",
    "        m: number of darts inside unit circle.\n",
    "    \"\"\"\n",
    "    m = 0\n",
    "    for i in range(int(n)):\n",
    "        x, y = uniform(0, 1), uniform(0, 1)\n",
    "        if x**2 + y**2 < 1:\n",
    "            m += 1\n",
    "    return m"
   ]
  },
  {
   "cell_type": "code",
   "execution_count": 28,
   "metadata": {
    "collapsed": true
   },
   "outputs": [],
   "source": [
    "def pi_mp(num_darts, num_proc=None, msg = False):\n",
    "    \"\"\"\n",
    "    Calculate pi using multiprocessing\n",
    "    \n",
    "    Parameter\n",
    "    ---------\n",
    "    num_darts: total number of darts to throw to calculate pi\n",
    "    num_proc: number of processors/ workers to assign, default\n",
    "            value = os.cpu_count()\n",
    "    \n",
    "    Return\n",
    "    ------\n",
    "        pi_approx: approximated value of pi\n",
    "        t_loop: time spent in monte carlo simulation in seconds.\n",
    "            initializing and shutting down worker pool have been\n",
    "            excluded in timing. \n",
    "    \"\"\"\n",
    "    # default number processes = num of CPUs\n",
    "    if not num_proc:\n",
    "        import os\n",
    "        num_proc = os.cpu_count()    \n",
    "    \n",
    "    t1 = time()\n",
    "    \n",
    "    # average number of darts that each processor process\n",
    "    \n",
    "    avg_load = num_darts // num_proc\n",
    "    extra_load = num_darts % avg_load\n",
    "    \n",
    "    # initialize workload for processors\n",
    "    \n",
    "    loads = [avg_load] * num_proc\n",
    "    loads[num_proc - 1] += extra_load\n",
    "    \n",
    "    # start a pool of workers\n",
    "    pool = Pool(processes=num_proc)\n",
    "\n",
    "    t2 = time()\n",
    "    \n",
    "    # assign jobs for each worker\n",
    "    result = pool.imap_unordered(sample_circle, loads)\n",
    "    # combine results from all workers\n",
    "    num_in_cirlce = sum(result)\n",
    "    \n",
    "    t3 = time()\n",
    "    \n",
    "    # shut down pool, remove pointer to pool object\n",
    "    # allowing garbage collectors release memory\n",
    "    pool.terminate()\n",
    "    del pool\n",
    "    \n",
    "    t4 = time()\n",
    "    \n",
    "    t_setup = t2-t1\n",
    "    t_loop = t3-t2\n",
    "    t_shutdown = t4-t3\n",
    "    pi_approx = 4 *  num_in_cirlce / num_darts\n",
    "    \n",
    "    if msg:\n",
    "        print(\"set up {0} workers used {1:.3g}s\".format(num_proc, t_setup))\n",
    "        print(\"throwing {0} darts used {1:.3g}s\".format(num_darts, t_loop))\n",
    "        print(\"terminate {0} workers used {1:.3g}s\".format(num_proc, t_shutdown))\n",
    "    return pi_approx, t_loop"
   ]
  },
  {
   "cell_type": "code",
   "execution_count": 8,
   "metadata": {
    "collapsed": false
   },
   "outputs": [
    {
     "name": "stdout",
     "output_type": "stream",
     "text": [
      "set up 4 workers used 0.0831s\n",
      "throwing 100000 darts used 0.06s\n",
      "terminate 4 workers used 0.0459s\n"
     ]
    },
    {
     "data": {
      "text/plain": [
       "(3.1458, 0.06000494956970215)"
      ]
     },
     "execution_count": 8,
     "metadata": {},
     "output_type": "execute_result"
    }
   ],
   "source": [
    "num_darts = 100000\n",
    "pi_mp(num_darts)"
   ]
  },
  {
   "cell_type": "markdown",
   "metadata": {},
   "source": [
    "## ipyparallel implementation"
   ]
  },
  {
   "cell_type": "markdown",
   "metadata": {},
   "source": [
    "First start ipython cluster in terminal\n",
    "<center> $ipcluster start -n 4 </center>\n"
   ]
  },
  {
   "cell_type": "code",
   "execution_count": 9,
   "metadata": {
    "collapsed": true
   },
   "outputs": [],
   "source": [
    "def sample_circle(n):\n",
    "    \"\"\"\n",
    "    throw n darts in [0, 1] * [0, 1] square, return the number\n",
    "    of darts inside unit circle.\n",
    "    \n",
    "    Parameter\n",
    "    ---------\n",
    "        n: number of darts to throw.\n",
    "    \n",
    "    Return\n",
    "    ------\n",
    "        m: number of darts inside unit circle.\n",
    "    \"\"\"\n",
    "    m = 0\n",
    "    for i in range(int(n)):\n",
    "        x, y = uniform(0, 1), uniform(0, 1)\n",
    "        if x**2 + y**2 < 1:\n",
    "            m += 1\n",
    "    return m"
   ]
  },
  {
   "cell_type": "code",
   "execution_count": 10,
   "metadata": {
    "collapsed": false
   },
   "outputs": [],
   "source": [
    "from ipyparallel import Client\n",
    "from time import time"
   ]
  },
  {
   "cell_type": "code",
   "execution_count": 31,
   "metadata": {
    "collapsed": false
   },
   "outputs": [],
   "source": [
    "def pi_ipp(dview, num_darts, msg=False):\n",
    "    \"\"\"\n",
    "    Calculate pi using ipyparallel module\n",
    "    \n",
    "    Parameter\n",
    "    ---------\n",
    "    num_darts: total number of darts to throw to calculate pi\n",
    "    num_proc: number of processors/ workers to assign, default\n",
    "            value = os.cpu_count()\n",
    "    \n",
    "    Return\n",
    "    ------\n",
    "        pi_approx: approximated value of pi\n",
    "        t_loop: time spent in monte carlo simulation in seconds.\n",
    "            initializing ipyparallel client has been\n",
    "            excluded in timing.     \n",
    "    \"\"\"\n",
    "    t1 = time()\n",
    "\n",
    "    with dview.sync_imports():\n",
    "        from random import uniform\n",
    "        \n",
    "    num_proc = len(clients.ids)\n",
    "    avg_load = num_darts // num_proc\n",
    "    extra_load = num_darts % avg_load\n",
    "    \n",
    "    # initialize workload for processors\n",
    "    loads = [avg_load] * num_proc\n",
    "    loads[num_proc - 1] += extra_load\n",
    "        \n",
    "    t2 = time()\n",
    "    \n",
    "    result = dview.map_async(sample_circle, loads)   \n",
    "    approx_pi = 4 * sum(result) / num_darts\n",
    "    t3 = time() \n",
    "    \n",
    "    t_loop = t3 - t2\n",
    "    t_setup = t2 - t1\n",
    "    \n",
    "    if msg:\n",
    "        print(\"set up {0} ipyparallel engines used {1:.3g}s\".format(\n",
    "                num_proc, t_setup))\n",
    "        print(\"throwing {0} darts used {1:.3g}s\".format(num_darts, t_loop))\n",
    "    return approx_pi, t_loop"
   ]
  },
  {
   "cell_type": "code",
   "execution_count": 12,
   "metadata": {
    "collapsed": false
   },
   "outputs": [
    {
     "name": "stdout",
     "output_type": "stream",
     "text": [
      "importing uniform from random on engine(s)\n",
      "set up 4 ipyparallel engines used 1.59s\n",
      "throwing 100000 darts used 0.0699s\n"
     ]
    },
    {
     "data": {
      "text/plain": [
       "(3.14836, 0.06993412971496582)"
      ]
     },
     "execution_count": 12,
     "metadata": {},
     "output_type": "execute_result"
    }
   ],
   "source": [
    "n = 100000\n",
    "pi_ipp(dview, n)"
   ]
  },
  {
   "cell_type": "markdown",
   "metadata": {},
   "source": [
    "## Performance test"
   ]
  },
  {
   "cell_type": "code",
   "execution_count": 13,
   "metadata": {
    "collapsed": false
   },
   "outputs": [],
   "source": [
    "n_benchmark = [10, 30, 100, 3e2, 1e3, 3e3, 1e4, 3e4, 1e5, 3e5, 1e6, 3e6, 1e7]"
   ]
  },
  {
   "cell_type": "code",
   "execution_count": 14,
   "metadata": {
    "collapsed": false
   },
   "outputs": [],
   "source": [
    "t_serial = [pi_serial(n)[1] for n in n_benchmark]"
   ]
  },
  {
   "cell_type": "code",
   "execution_count": 30,
   "metadata": {
    "collapsed": true
   },
   "outputs": [],
   "source": [
    "t_mp = [pi_mp(n)[1] for n in n_benchmark]"
   ]
  },
  {
   "cell_type": "code",
   "execution_count": 33,
   "metadata": {
    "collapsed": false
   },
   "outputs": [
    {
     "name": "stderr",
     "output_type": "stream",
     "text": [
      "/usr/local/lib/python3.5/site-packages/ipyparallel/client/client.py:442: RuntimeWarning: \n",
      "            Controller appears to be listening on localhost, but not on this machine.\n",
      "            If this is true, you should specify Client(...,sshserver='you@10.0.1.47')\n",
      "            or instruct your controller to listen on an external IP.\n",
      "  RuntimeWarning)\n"
     ]
    },
    {
     "name": "stdout",
     "output_type": "stream",
     "text": [
      "importing uniform from random on engine(s)\n",
      "importing uniform from random on engine(s)\n",
      "importing uniform from random on engine(s)\n",
      "importing uniform from random on engine(s)\n",
      "importing uniform from random on engine(s)\n",
      "importing uniform from random on engine(s)\n",
      "importing uniform from random on engine(s)\n",
      "importing uniform from random on engine(s)\n",
      "importing uniform from random on engine(s)\n",
      "importing uniform from random on engine(s)\n",
      "importing uniform from random on engine(s)\n",
      "importing uniform from random on engine(s)\n",
      "importing uniform from random on engine(s)\n"
     ]
    }
   ],
   "source": [
    "clients = Client()\n",
    "dview = clients.direct_view()\n",
    "t_ipp = [pi_ipp(dview, n)[1] for n in n_benchmark]"
   ]
  },
  {
   "cell_type": "code",
   "execution_count": 53,
   "metadata": {
    "collapsed": true
   },
   "outputs": [],
   "source": [
    "import matplotlib.pyplot as plt\n",
    "import numpy as np\n",
    "%matplotlib inline"
   ]
  },
  {
   "cell_type": "code",
   "execution_count": 61,
   "metadata": {
    "collapsed": false
   },
   "outputs": [
    {
     "data": {
      "image/png": "[encoded data removed]",
      "text/plain": [
       "<matplotlib.figure.Figure at 0x111cb26a0>"
      ]
     },
     "metadata": {},
     "output_type": "display_data"
    }
   ],
   "source": [
    "fs = 20\n",
    "f1, ax1= plt.subplots(figsize = [8, 6])\n",
    "ax1.plot(n_benchmark, t_ipp, label = 'IPcluster')\n",
    "ax1.plot(n_benchmark, t_mp, label = 'Multiprocessing')\n",
    "ax1.plot(n_benchmark, t_serial, label = 'serial')\n",
    "\n",
    "\n",
    "ax1.set_yscale('log')\n",
    "ax1.set_xscale('log')\n",
    "plt.legend(loc = 'best')\n",
    "ax1.set_xlabel('# of darts thrown', fontsize = fs)\n",
    "ax1.set_ylabel('Execution time (s): solid', fontsize = fs)\n",
    "\n",
    "ax2 = ax1.twinx()\n",
    "n_bm_np = np.array(n_benchmark)\n",
    "ax2.plot(n_benchmark, n_bm_np/np.array(t_ipp), '--')\n",
    "ax2.plot(n_benchmark, n_bm_np/np.array(t_mp), '--')\n",
    "ax2.plot(n_benchmark, n_bm_np/np.array(t_serial), '--')\n",
    "\n",
    "ax2.set_yscale('log')\n",
    "ax2.set_xscale('log')\n",
    "\n",
    "ax2.set_ylabel('simulation rate (darts/s): dashed', fontsize = fs)\n",
    "# for tl in ax2.get_yticklabels():\n",
    "#     tl.set_color('r')\n",
    "plt.show()"
   ]
  },
  {
   "cell_type": "code",
   "execution_count": 63,
   "metadata": {
    "collapsed": true
   },
   "outputs": [],
   "source": [
    "# f1.savefig('performance.png', dpi = 300)"
   ]
  },
  {
   "cell_type": "markdown",
   "metadata": {},
   "source": [
    "## Result\n",
    "\n",
    "-- hardware spec: MacBook Pro 2.6 GHz Intel Core i5, 4 cores\n",
    "<img src='performance.png' />"
   ]
  },
  {
   "cell_type": "code",
   "execution_count": null,
   "metadata": {
    "collapsed": true
   },
   "outputs": [],
   "source": []
  }
 ],
 "metadata": {
  "kernelspec": {
   "display_name": "Python 3",
   "language": "python",
   "name": "python3"
  },
  "language_info": {
   "codemirror_mode": {
    "name": "ipython",
    "version": 3
   },
   "file_extension": ".py",
   "mimetype": "text/x-python",
   "name": "python",
   "nbconvert_exporter": "python",
   "pygments_lexer": "ipython3",
   "version": "3.5.1"
  },
  "widgets": {
   "state": {},
   "version": "1.1.2"
  }
 },
 "nbformat": 4,
 "nbformat_minor": 0
}
